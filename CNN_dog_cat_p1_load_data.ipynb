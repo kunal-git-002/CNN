{
  "nbformat": 4,
  "nbformat_minor": 0,
  "metadata": {
    "colab": {
      "name": "CNN_dog_cat_p1_load_data.ipynb",
      "provenance": [],
      "collapsed_sections": [],
      "mount_file_id": "1QhTOicV2fRT_Zs9fCgMJZMtXeoLZeR3O",
      "authorship_tag": "ABX9TyPQ1s03vwwB5wKq98LPs8Dh",
      "include_colab_link": true
    },
    "kernelspec": {
      "name": "python3",
      "display_name": "Python 3"
    },
    "accelerator": "GPU"
  },
  "cells": [
    {
      "cell_type": "markdown",
      "metadata": {
        "id": "view-in-github",
        "colab_type": "text"
      },
      "source": [
        "<a href=\"https://colab.research.google.com/github/kunal-git-002/CNN/blob/master/CNN_dog_cat_p1_load_data.ipynb\" target=\"_parent\"><img src=\"https://colab.research.google.com/assets/colab-badge.svg\" alt=\"Open In Colab\"/></a>"
      ]
    },
    {
      "cell_type": "markdown",
      "metadata": {
        "id": "cReDsY39fonZ",
        "colab_type": "text"
      },
      "source": [
        "**cat vs dog**"
      ]
    },
    {
      "cell_type": "markdown",
      "metadata": {
        "id": "aOPfbXZDfq4_",
        "colab_type": "text"
      },
      "source": [
        "***part 1: dataset building***"
      ]
    },
    {
      "cell_type": "code",
      "metadata": {
        "id": "Zl0XFY7yR0o8",
        "colab_type": "code",
        "colab": {}
      },
      "source": [
        "import numpy as np\n",
        "import matplotlib.pyplot as plt\n",
        "\n",
        "import cv2\n",
        "import os\n",
        "from google.colab.patches import cv2_imshow"
      ],
      "execution_count": 2,
      "outputs": []
    },
    {
      "cell_type": "code",
      "metadata": {
        "id": "0M8e3qYkXfza",
        "colab_type": "code",
        "colab": {
          "base_uri": "https://localhost:8080/",
          "height": 34
        },
        "outputId": "496bf1b7-510a-431e-8b8a-aff6a8cedb4a"
      },
      "source": [
        "img_arr.shape"
      ],
      "execution_count": 5,
      "outputs": [
        {
          "output_type": "execute_result",
          "data": {
            "text/plain": [
              "(630, 1200)"
            ]
          },
          "metadata": {
            "tags": []
          },
          "execution_count": 5
        }
      ]
    },
    {
      "cell_type": "code",
      "metadata": {
        "id": "SBGL20vxXySy",
        "colab_type": "code",
        "colab": {
          "base_uri": "https://localhost:8080/",
          "height": 268
        },
        "outputId": "5dc7204a-cd76-4ac3-f82b-cb50c6350377"
      },
      "source": [
        "#reshaping\n",
        "img_size=60\n",
        "new_arr=cv2.resize(img_arr,(img_size,img_size))\n",
        "\n",
        "plt.imshow(new_arr,cmap=\"gray\")\n",
        "plt.show()"
      ],
      "execution_count": 11,
      "outputs": [
        {
          "output_type": "display_data",
          "data": {
            "image/png": "[encoded data removed]",
            "text/plain": [
              "<Figure size 432x288 with 1 Axes>"
            ]
          },
          "metadata": {
            "tags": [],
            "needs_background": "light"
          }
        }
      ]
    },
    {
      "cell_type": "code",
      "metadata": {
        "id": "op6xyWPKYrXi",
        "colab_type": "code",
        "colab": {}
      },
      "source": [
        "datadir=\"/content/drive/My Drive/CNN_prac/data/cat_vs_dog\"\n",
        "\n",
        "categories=[\"dog\",\"cat\"]\n",
        "\n",
        "training_data=[]\n",
        "i=0\n",
        "def create_tr_data():\n",
        "  global i\n",
        "  for category in categories:\n",
        "\n",
        "    path1=os.path.join(datadir,category)\n",
        "    class_num=categories.index(category)\n",
        "\n",
        "    for img in os.listdir(path1):\n",
        "\n",
        "      print(\"processing img: \"i)\n",
        "      i+=1\n",
        " \n",
        "\n",
        "      try:\n",
        "        img_arr=cv2.imread(os.path.join(path1,img),0)\n",
        "        img_size=60\n",
        "        new_arr=cv2.resize(img_arr,(img_size,img_size))\n",
        "\n",
        "        training_data.append([new_arr,class_num ])\n",
        "\n",
        "      \n",
        "      except Exception as e:\n",
        "        pass\n",
        "\n",
        "\n",
        "create_tr_data()\n"
      ],
      "execution_count": null,
      "outputs": []
    },
    {
      "cell_type": "code",
      "metadata": {
        "id": "gS3ijrvtb1IY",
        "colab_type": "code",
        "colab": {}
      },
      "source": [
        "#shuffle the data\n",
        "import random\n",
        "random.shuffle(training_data)"
      ],
      "execution_count": 31,
      "outputs": []
    },
    {
      "cell_type": "code",
      "metadata": {
        "id": "xstBAeUNcZkQ",
        "colab_type": "code",
        "colab": {}
      },
      "source": [
        "x=[]#features\n",
        "y=[]#target\n",
        "\n",
        "for op in training_data:\n",
        "  x.append(op[0])\n",
        "  y.append(op[1])\n",
        "\n",
        "x=np.array(x).reshape(-1,img_size,img_size,1)#-1 or len(x)"
      ],
      "execution_count": 34,
      "outputs": []
    },
    {
      "cell_type": "code",
      "metadata": {
        "id": "xzde94xCcZeA",
        "colab_type": "code",
        "colab": {
          "base_uri": "https://localhost:8080/",
          "height": 34
        },
        "outputId": "0e1f8ad2-1caf-4857-a13f-cc327e8af02e"
      },
      "source": [
        "x.shape"
      ],
      "execution_count": 35,
      "outputs": [
        {
          "output_type": "execute_result",
          "data": {
            "text/plain": [
              "(840, 60, 60, 1)"
            ]
          },
          "metadata": {
            "tags": []
          },
          "execution_count": 35
        }
      ]
    },
    {
      "cell_type": "markdown",
      "metadata": {
        "id": "FfEg-zY9jBOg",
        "colab_type": "text"
      },
      "source": [
        "***save the data of x,y using pickle***"
      ]
    },
    {
      "cell_type": "code",
      "metadata": {
        "id": "B7Ht2eCKhecY",
        "colab_type": "code",
        "colab": {}
      },
      "source": [
        "import pickle\n",
        "\n",
        "pickle_out=open(\"/content/drive/My Drive/CNN_prac/data/cat_vs_dog/pickle file/x.pickle\",\"wb\")\n",
        "pickle.dump(x,pickle_out)\n",
        "pickle_out.close()\n",
        "\n",
        "pickle_out=open(\"/content/drive/My Drive/CNN_prac/data/cat_vs_dog/pickle file/y.pickle\",\"wb\")\n",
        "pickle.dump(y,pickle_out)\n",
        "pickle_out.close()"
      ],
      "execution_count": 37,
      "outputs": []
    },
    {
      "cell_type": "markdown",
      "metadata": {
        "id": "0pqbk5_UjIfQ",
        "colab_type": "text"
      },
      "source": [
        "***only for testing purpose,***"
      ]
    },
    {
      "cell_type": "markdown",
      "metadata": {
        "id": "0bspmfOtjPh8",
        "colab_type": "text"
      },
      "source": [
        "***open our pickle file***"
      ]
    },
    {
      "cell_type": "code",
      "metadata": {
        "id": "AIXGBIVPioqL",
        "colab_type": "code",
        "colab": {
          "base_uri": "https://localhost:8080/",
          "height": 34
        },
        "outputId": "54eea0e2-88ab-4a47-d72b-d8ac0b1bc9c3"
      },
      "source": [
        "pickle_op=open(\"/content/drive/My Drive/CNN_prac/data/cat_vs_dog/pickle file/x.pickle\",\"rb\")\n",
        "x=pickle.load(pickle_op)\n",
        "\n",
        "len(x)"
      ],
      "execution_count": 39,
      "outputs": [
        {
          "output_type": "execute_result",
          "data": {
            "text/plain": [
              "840"
            ]
          },
          "metadata": {
            "tags": []
          },
          "execution_count": 39
        }
      ]
    }
  ]
}