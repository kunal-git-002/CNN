{
  "nbformat": 4,
  "nbformat_minor": 0,
  "metadata": {
    "colab": {
      "name": "CNN_dog_cat_p2_model.ipynb",
      "provenance": [],
      "mount_file_id": "1ohZndaulXg9z6xX-6SMv_PoRELxbLd2B",
      "authorship_tag": "ABX9TyML3K7GgBsdNr48GJyepHh/",
      "include_colab_link": true
    },
    "kernelspec": {
      "name": "python3",
      "display_name": "Python 3"
    },
    "accelerator": "GPU"
  },
  "cells": [
    {
      "cell_type": "markdown",
      "metadata": {
        "id": "view-in-github",
        "colab_type": "text"
      },
      "source": [
        "<a href=\"https://colab.research.google.com/github/kunal-git-002/CNN/blob/master/CNN_dog_cat_p2_model.ipynb\" target=\"_parent\"><img src=\"https://colab.research.google.com/assets/colab-badge.svg\" alt=\"Open In Colab\"/></a>"
      ]
    },
    {
      "cell_type": "code",
      "metadata": {
        "id": "9FfBBwqGj1tB",
        "colab_type": "code",
        "colab": {}
      },
      "source": [
        "import keras\n",
        "from keras.models import Sequential\n",
        "from keras.layers import Dense,Dropout,Flatten,Activation,Conv2D,MaxPool2D\n",
        "from keras.layers.convolutional import Convolution2D,MaxPooling2D\n",
        "\n",
        "\n",
        "import pickle as pk\n",
        "import numpy as np\n",
        "import os\n",
        "import cv2\n",
        "import matplotlib.pyplot as plt\n",
        "\n",
        "from google.colab.patches import cv2_imshow"
      ],
      "execution_count": 2,
      "outputs": []
    },
    {
      "cell_type": "code",
      "metadata": {
        "id": "jw520klul926",
        "colab_type": "code",
        "colab": {}
      },
      "source": [
        "pk_file=open(\"/content/drive/My Drive/CNN_prac/data/cat_vs_dog/pickle file/x.pickle\",\"rb\")\n",
        "x=pk.load(pk_file)\n",
        "\n",
        "pk_file=open(\"/content/drive/My Drive/CNN_prac/data/cat_vs_dog/pickle file/y.pickle\",\"rb\")\n",
        "y=pk.load(pk_file)\n",
        "y=np.array(y)"
      ],
      "execution_count": 3,
      "outputs": []
    },
    {
      "cell_type": "code",
      "metadata": {
        "id": "aUp_grZSm5Hi",
        "colab_type": "code",
        "colab": {}
      },
      "source": [
        "#covert 0-255 to 0-1\n",
        "x=x/255.0"
      ],
      "execution_count": 4,
      "outputs": []
    },
    {
      "cell_type": "code",
      "metadata": {
        "id": "Jff22U9ErlEU",
        "colab_type": "code",
        "colab": {}
      },
      "source": [
        "x[1]"
      ],
      "execution_count": null,
      "outputs": []
    },
    {
      "cell_type": "code",
      "metadata": {
        "id": "7eGlbcKGnRic",
        "colab_type": "code",
        "colab": {}
      },
      "source": [
        "model=Sequential()\n",
        "\n",
        "#1\n",
        "model.add(Convolution2D(32,(3,3),data_format=\"channels_last\",activation=\"relu\",input_shape=(60,60,1)))\n",
        "\n",
        "#2\n",
        "model.add(Convolution2D(32,(3,3),activation=\"relu\"))\n",
        "\n",
        "model.add(MaxPooling2D(pool_size=(2,2)))\n",
        "\n",
        "#3\n",
        "model.add(Flatten())\n",
        "model.add(Dense(64))\n",
        "\n",
        "#4\n",
        "model.add(Dense(1))\n",
        "model.add(Activation(\"sigmoid\"))\n",
        "\n",
        "model.summary()"
      ],
      "execution_count": null,
      "outputs": []
    },
    {
      "cell_type": "code",
      "metadata": {
        "id": "NBvUBBujpQ0V",
        "colab_type": "code",
        "colab": {}
      },
      "source": [
        "model.compile(loss=\"binary_crossentropy\",\n",
        "              optimizer=\"adam\",\n",
        "              metrics=[\"accuracy\"])"
      ],
      "execution_count": 20,
      "outputs": []
    },
    {
      "cell_type": "code",
      "metadata": {
        "id": "FosC40I6ptv_",
        "colab_type": "code",
        "colab": {
          "base_uri": "https://localhost:8080/",
          "height": 1000
        },
        "outputId": "c28f1db7-e629-4de7-9cdd-b51f3fe025ca"
      },
      "source": [
        "model.fit(x,y,batch_size=32,validation_split=0.3,epochs=100,verbose=1)\n"
      ],
      "execution_count": 21,
      "outputs": [
        {
          "output_type": "stream",
          "text": [
            "Epoch 1/100\n",
            "19/19 [==============================] - 0s 15ms/step - loss: 1.2528 - accuracy: 0.5221 - val_loss: 0.6702 - val_accuracy: 0.5437\n",
            "Epoch 2/100\n",
            "19/19 [==============================] - 0s 9ms/step - loss: 0.6484 - accuracy: 0.5952 - val_loss: 0.6553 - val_accuracy: 0.6190\n",
            "Epoch 3/100\n",
            "19/19 [==============================] - 0s 9ms/step - loss: 0.6049 - accuracy: 0.6803 - val_loss: 0.6442 - val_accuracy: 0.6310\n",
            "Epoch 4/100\n",
            "19/19 [==============================] - 0s 8ms/step - loss: 0.5608 - accuracy: 0.7279 - val_loss: 0.6454 - val_accuracy: 0.6746\n",
            "Epoch 5/100\n",
            "19/19 [==============================] - 0s 8ms/step - loss: 0.4902 - accuracy: 0.7755 - val_loss: 0.6295 - val_accuracy: 0.6587\n",
            "Epoch 6/100\n",
            "19/19 [==============================] - 0s 7ms/step - loss: 0.4187 - accuracy: 0.8350 - val_loss: 0.7746 - val_accuracy: 0.6151\n",
            "Epoch 7/100\n",
            "19/19 [==============================] - 0s 7ms/step - loss: 0.3740 - accuracy: 0.8214 - val_loss: 0.6793 - val_accuracy: 0.6429\n",
            "Epoch 8/100\n",
            "19/19 [==============================] - 0s 7ms/step - loss: 0.2833 - accuracy: 0.9150 - val_loss: 0.8116 - val_accuracy: 0.6429\n",
            "Epoch 9/100\n",
            "19/19 [==============================] - 0s 7ms/step - loss: 0.2243 - accuracy: 0.9337 - val_loss: 0.8300 - val_accuracy: 0.6310\n",
            "Epoch 10/100\n",
            "19/19 [==============================] - 0s 8ms/step - loss: 0.1453 - accuracy: 0.9728 - val_loss: 0.8982 - val_accuracy: 0.6468\n",
            "Epoch 11/100\n",
            "19/19 [==============================] - 0s 7ms/step - loss: 0.1054 - accuracy: 0.9745 - val_loss: 0.9561 - val_accuracy: 0.6548\n",
            "Epoch 12/100\n",
            "19/19 [==============================] - 0s 7ms/step - loss: 0.1043 - accuracy: 0.9779 - val_loss: 1.0497 - val_accuracy: 0.6270\n",
            "Epoch 13/100\n",
            "19/19 [==============================] - 0s 7ms/step - loss: 0.0688 - accuracy: 0.9864 - val_loss: 1.1757 - val_accuracy: 0.6389\n",
            "Epoch 14/100\n",
            "19/19 [==============================] - 0s 7ms/step - loss: 0.0407 - accuracy: 0.9983 - val_loss: 1.2674 - val_accuracy: 0.6587\n",
            "Epoch 15/100\n",
            "19/19 [==============================] - 0s 7ms/step - loss: 0.0226 - accuracy: 1.0000 - val_loss: 1.4007 - val_accuracy: 0.6230\n",
            "Epoch 16/100\n",
            "19/19 [==============================] - 0s 7ms/step - loss: 0.0149 - accuracy: 1.0000 - val_loss: 1.4185 - val_accuracy: 0.6389\n",
            "Epoch 17/100\n",
            "19/19 [==============================] - 0s 8ms/step - loss: 0.0095 - accuracy: 1.0000 - val_loss: 1.4991 - val_accuracy: 0.6310\n",
            "Epoch 18/100\n",
            "19/19 [==============================] - 0s 7ms/step - loss: 0.0071 - accuracy: 1.0000 - val_loss: 1.5578 - val_accuracy: 0.6190\n",
            "Epoch 19/100\n",
            "19/19 [==============================] - 0s 8ms/step - loss: 0.0055 - accuracy: 1.0000 - val_loss: 1.6032 - val_accuracy: 0.6270\n",
            "Epoch 20/100\n",
            "19/19 [==============================] - 0s 8ms/step - loss: 0.0046 - accuracy: 1.0000 - val_loss: 1.6668 - val_accuracy: 0.6270\n",
            "Epoch 21/100\n",
            "19/19 [==============================] - 0s 8ms/step - loss: 0.0038 - accuracy: 1.0000 - val_loss: 1.6937 - val_accuracy: 0.6230\n",
            "Epoch 22/100\n",
            "19/19 [==============================] - 0s 7ms/step - loss: 0.0032 - accuracy: 1.0000 - val_loss: 1.7263 - val_accuracy: 0.6230\n",
            "Epoch 23/100\n",
            "19/19 [==============================] - 0s 8ms/step - loss: 0.0027 - accuracy: 1.0000 - val_loss: 1.7768 - val_accuracy: 0.6230\n",
            "Epoch 24/100\n",
            "19/19 [==============================] - 0s 8ms/step - loss: 0.0024 - accuracy: 1.0000 - val_loss: 1.8163 - val_accuracy: 0.6270\n",
            "Epoch 25/100\n",
            "19/19 [==============================] - 0s 7ms/step - loss: 0.0020 - accuracy: 1.0000 - val_loss: 1.8390 - val_accuracy: 0.6230\n",
            "Epoch 26/100\n",
            "19/19 [==============================] - 0s 7ms/step - loss: 0.0018 - accuracy: 1.0000 - val_loss: 1.8757 - val_accuracy: 0.6270\n",
            "Epoch 27/100\n",
            "19/19 [==============================] - 0s 7ms/step - loss: 0.0016 - accuracy: 1.0000 - val_loss: 1.9118 - val_accuracy: 0.6151\n",
            "Epoch 28/100\n",
            "19/19 [==============================] - 0s 7ms/step - loss: 0.0013 - accuracy: 1.0000 - val_loss: 1.9407 - val_accuracy: 0.6230\n",
            "Epoch 29/100\n",
            "19/19 [==============================] - 0s 8ms/step - loss: 0.0012 - accuracy: 1.0000 - val_loss: 1.9739 - val_accuracy: 0.6429\n",
            "Epoch 30/100\n",
            "19/19 [==============================] - 0s 8ms/step - loss: 0.0011 - accuracy: 1.0000 - val_loss: 2.0021 - val_accuracy: 0.6151\n",
            "Epoch 31/100\n",
            "19/19 [==============================] - 0s 7ms/step - loss: 9.2964e-04 - accuracy: 1.0000 - val_loss: 2.0301 - val_accuracy: 0.6230\n",
            "Epoch 32/100\n",
            "19/19 [==============================] - 0s 8ms/step - loss: 8.3568e-04 - accuracy: 1.0000 - val_loss: 2.0569 - val_accuracy: 0.6230\n",
            "Epoch 33/100\n",
            "19/19 [==============================] - 0s 7ms/step - loss: 7.5372e-04 - accuracy: 1.0000 - val_loss: 2.0779 - val_accuracy: 0.6270\n",
            "Epoch 34/100\n",
            "19/19 [==============================] - 0s 7ms/step - loss: 6.7293e-04 - accuracy: 1.0000 - val_loss: 2.1154 - val_accuracy: 0.6310\n",
            "Epoch 35/100\n",
            "19/19 [==============================] - 0s 7ms/step - loss: 6.1747e-04 - accuracy: 1.0000 - val_loss: 2.1428 - val_accuracy: 0.6310\n",
            "Epoch 36/100\n",
            "19/19 [==============================] - 0s 7ms/step - loss: 5.7586e-04 - accuracy: 1.0000 - val_loss: 2.1648 - val_accuracy: 0.6349\n",
            "Epoch 37/100\n",
            "19/19 [==============================] - 0s 8ms/step - loss: 5.2080e-04 - accuracy: 1.0000 - val_loss: 2.1823 - val_accuracy: 0.6389\n",
            "Epoch 38/100\n",
            "19/19 [==============================] - 0s 7ms/step - loss: 4.7734e-04 - accuracy: 1.0000 - val_loss: 2.2003 - val_accuracy: 0.6349\n",
            "Epoch 39/100\n",
            "19/19 [==============================] - 0s 7ms/step - loss: 4.4717e-04 - accuracy: 1.0000 - val_loss: 2.2234 - val_accuracy: 0.6349\n",
            "Epoch 40/100\n",
            "19/19 [==============================] - 0s 8ms/step - loss: 4.0098e-04 - accuracy: 1.0000 - val_loss: 2.2441 - val_accuracy: 0.6310\n",
            "Epoch 41/100\n",
            "19/19 [==============================] - 0s 8ms/step - loss: 3.7131e-04 - accuracy: 1.0000 - val_loss: 2.2708 - val_accuracy: 0.6349\n",
            "Epoch 42/100\n",
            "19/19 [==============================] - 0s 7ms/step - loss: 3.4444e-04 - accuracy: 1.0000 - val_loss: 2.2843 - val_accuracy: 0.6349\n",
            "Epoch 43/100\n",
            "19/19 [==============================] - 0s 7ms/step - loss: 3.2850e-04 - accuracy: 1.0000 - val_loss: 2.3034 - val_accuracy: 0.6349\n",
            "Epoch 44/100\n",
            "19/19 [==============================] - 0s 8ms/step - loss: 2.9906e-04 - accuracy: 1.0000 - val_loss: 2.3280 - val_accuracy: 0.6468\n",
            "Epoch 45/100\n",
            "19/19 [==============================] - 0s 8ms/step - loss: 2.8151e-04 - accuracy: 1.0000 - val_loss: 2.3391 - val_accuracy: 0.6310\n",
            "Epoch 46/100\n",
            "19/19 [==============================] - 0s 8ms/step - loss: 2.6363e-04 - accuracy: 1.0000 - val_loss: 2.3541 - val_accuracy: 0.6389\n",
            "Epoch 47/100\n",
            "19/19 [==============================] - 0s 8ms/step - loss: 2.4936e-04 - accuracy: 1.0000 - val_loss: 2.3752 - val_accuracy: 0.6508\n",
            "Epoch 48/100\n",
            "19/19 [==============================] - 0s 8ms/step - loss: 2.3511e-04 - accuracy: 1.0000 - val_loss: 2.3974 - val_accuracy: 0.6429\n",
            "Epoch 49/100\n",
            "19/19 [==============================] - 0s 9ms/step - loss: 2.1949e-04 - accuracy: 1.0000 - val_loss: 2.4111 - val_accuracy: 0.6389\n",
            "Epoch 50/100\n",
            "19/19 [==============================] - 0s 8ms/step - loss: 2.0793e-04 - accuracy: 1.0000 - val_loss: 2.4187 - val_accuracy: 0.6389\n",
            "Epoch 51/100\n",
            "19/19 [==============================] - 0s 8ms/step - loss: 1.9525e-04 - accuracy: 1.0000 - val_loss: 2.4350 - val_accuracy: 0.6429\n",
            "Epoch 52/100\n",
            "19/19 [==============================] - 0s 7ms/step - loss: 1.8542e-04 - accuracy: 1.0000 - val_loss: 2.4621 - val_accuracy: 0.6389\n",
            "Epoch 53/100\n",
            "19/19 [==============================] - 0s 7ms/step - loss: 1.7953e-04 - accuracy: 1.0000 - val_loss: 2.4690 - val_accuracy: 0.6468\n",
            "Epoch 54/100\n",
            "19/19 [==============================] - 0s 8ms/step - loss: 1.6592e-04 - accuracy: 1.0000 - val_loss: 2.4849 - val_accuracy: 0.6429\n",
            "Epoch 55/100\n",
            "19/19 [==============================] - 0s 7ms/step - loss: 1.5837e-04 - accuracy: 1.0000 - val_loss: 2.4986 - val_accuracy: 0.6429\n",
            "Epoch 56/100\n",
            "19/19 [==============================] - 0s 7ms/step - loss: 1.5296e-04 - accuracy: 1.0000 - val_loss: 2.5129 - val_accuracy: 0.6429\n",
            "Epoch 57/100\n",
            "19/19 [==============================] - 0s 8ms/step - loss: 1.4244e-04 - accuracy: 1.0000 - val_loss: 2.5257 - val_accuracy: 0.6389\n",
            "Epoch 58/100\n",
            "19/19 [==============================] - 0s 7ms/step - loss: 1.3637e-04 - accuracy: 1.0000 - val_loss: 2.5429 - val_accuracy: 0.6429\n",
            "Epoch 59/100\n",
            "19/19 [==============================] - 0s 8ms/step - loss: 1.2959e-04 - accuracy: 1.0000 - val_loss: 2.5571 - val_accuracy: 0.6389\n",
            "Epoch 60/100\n",
            "19/19 [==============================] - 0s 7ms/step - loss: 1.2689e-04 - accuracy: 1.0000 - val_loss: 2.5710 - val_accuracy: 0.6389\n",
            "Epoch 61/100\n",
            "19/19 [==============================] - 0s 7ms/step - loss: 1.1781e-04 - accuracy: 1.0000 - val_loss: 2.5824 - val_accuracy: 0.6429\n",
            "Epoch 62/100\n",
            "19/19 [==============================] - 0s 7ms/step - loss: 1.1293e-04 - accuracy: 1.0000 - val_loss: 2.5952 - val_accuracy: 0.6429\n",
            "Epoch 63/100\n",
            "19/19 [==============================] - 0s 7ms/step - loss: 1.0782e-04 - accuracy: 1.0000 - val_loss: 2.6049 - val_accuracy: 0.6389\n",
            "Epoch 64/100\n",
            "19/19 [==============================] - 0s 8ms/step - loss: 1.0402e-04 - accuracy: 1.0000 - val_loss: 2.6233 - val_accuracy: 0.6389\n",
            "Epoch 65/100\n",
            "19/19 [==============================] - 0s 7ms/step - loss: 9.8350e-05 - accuracy: 1.0000 - val_loss: 2.6335 - val_accuracy: 0.6349\n",
            "Epoch 66/100\n",
            "19/19 [==============================] - 0s 8ms/step - loss: 9.6208e-05 - accuracy: 1.0000 - val_loss: 2.6449 - val_accuracy: 0.6349\n",
            "Epoch 67/100\n",
            "19/19 [==============================] - 0s 8ms/step - loss: 9.2680e-05 - accuracy: 1.0000 - val_loss: 2.6605 - val_accuracy: 0.6349\n",
            "Epoch 68/100\n",
            "19/19 [==============================] - 0s 7ms/step - loss: 8.7927e-05 - accuracy: 1.0000 - val_loss: 2.6671 - val_accuracy: 0.6349\n",
            "Epoch 69/100\n",
            "19/19 [==============================] - 0s 7ms/step - loss: 8.3720e-05 - accuracy: 1.0000 - val_loss: 2.6794 - val_accuracy: 0.6310\n",
            "Epoch 70/100\n",
            "19/19 [==============================] - 0s 7ms/step - loss: 8.0510e-05 - accuracy: 1.0000 - val_loss: 2.6983 - val_accuracy: 0.6310\n",
            "Epoch 71/100\n",
            "19/19 [==============================] - 0s 8ms/step - loss: 7.7091e-05 - accuracy: 1.0000 - val_loss: 2.7099 - val_accuracy: 0.6310\n",
            "Epoch 72/100\n",
            "19/19 [==============================] - 0s 7ms/step - loss: 7.5038e-05 - accuracy: 1.0000 - val_loss: 2.7148 - val_accuracy: 0.6389\n",
            "Epoch 73/100\n",
            "19/19 [==============================] - 0s 7ms/step - loss: 7.2025e-05 - accuracy: 1.0000 - val_loss: 2.7327 - val_accuracy: 0.6310\n",
            "Epoch 74/100\n",
            "19/19 [==============================] - 0s 7ms/step - loss: 6.9241e-05 - accuracy: 1.0000 - val_loss: 2.7385 - val_accuracy: 0.6310\n",
            "Epoch 75/100\n",
            "19/19 [==============================] - 0s 7ms/step - loss: 6.6514e-05 - accuracy: 1.0000 - val_loss: 2.7482 - val_accuracy: 0.6310\n",
            "Epoch 76/100\n",
            "19/19 [==============================] - 0s 7ms/step - loss: 6.4436e-05 - accuracy: 1.0000 - val_loss: 2.7604 - val_accuracy: 0.6310\n",
            "Epoch 77/100\n",
            "19/19 [==============================] - 0s 7ms/step - loss: 6.2685e-05 - accuracy: 1.0000 - val_loss: 2.7735 - val_accuracy: 0.6310\n",
            "Epoch 78/100\n",
            "19/19 [==============================] - 0s 8ms/step - loss: 6.0733e-05 - accuracy: 1.0000 - val_loss: 2.7814 - val_accuracy: 0.6349\n",
            "Epoch 79/100\n",
            "19/19 [==============================] - 0s 7ms/step - loss: 5.8246e-05 - accuracy: 1.0000 - val_loss: 2.7935 - val_accuracy: 0.6310\n",
            "Epoch 80/100\n",
            "19/19 [==============================] - 0s 7ms/step - loss: 5.6535e-05 - accuracy: 1.0000 - val_loss: 2.8023 - val_accuracy: 0.6349\n",
            "Epoch 81/100\n",
            "19/19 [==============================] - 0s 7ms/step - loss: 5.5119e-05 - accuracy: 1.0000 - val_loss: 2.8153 - val_accuracy: 0.6310\n",
            "Epoch 82/100\n",
            "19/19 [==============================] - 0s 7ms/step - loss: 5.2820e-05 - accuracy: 1.0000 - val_loss: 2.8282 - val_accuracy: 0.6310\n",
            "Epoch 83/100\n",
            "19/19 [==============================] - 0s 7ms/step - loss: 5.0479e-05 - accuracy: 1.0000 - val_loss: 2.8385 - val_accuracy: 0.6310\n",
            "Epoch 84/100\n",
            "19/19 [==============================] - 0s 8ms/step - loss: 4.9102e-05 - accuracy: 1.0000 - val_loss: 2.8489 - val_accuracy: 0.6310\n",
            "Epoch 85/100\n",
            "19/19 [==============================] - 0s 8ms/step - loss: 4.7630e-05 - accuracy: 1.0000 - val_loss: 2.8615 - val_accuracy: 0.6310\n",
            "Epoch 86/100\n",
            "19/19 [==============================] - 0s 8ms/step - loss: 4.5961e-05 - accuracy: 1.0000 - val_loss: 2.8705 - val_accuracy: 0.6310\n",
            "Epoch 87/100\n",
            "19/19 [==============================] - 0s 7ms/step - loss: 4.4615e-05 - accuracy: 1.0000 - val_loss: 2.8784 - val_accuracy: 0.6349\n",
            "Epoch 88/100\n",
            "19/19 [==============================] - 0s 8ms/step - loss: 4.3048e-05 - accuracy: 1.0000 - val_loss: 2.8916 - val_accuracy: 0.6310\n",
            "Epoch 89/100\n",
            "19/19 [==============================] - 0s 7ms/step - loss: 4.1972e-05 - accuracy: 1.0000 - val_loss: 2.9023 - val_accuracy: 0.6349\n",
            "Epoch 90/100\n",
            "19/19 [==============================] - 0s 8ms/step - loss: 4.0418e-05 - accuracy: 1.0000 - val_loss: 2.9114 - val_accuracy: 0.6349\n",
            "Epoch 91/100\n",
            "19/19 [==============================] - 0s 8ms/step - loss: 3.9397e-05 - accuracy: 1.0000 - val_loss: 2.9259 - val_accuracy: 0.6349\n",
            "Epoch 92/100\n",
            "19/19 [==============================] - 0s 7ms/step - loss: 3.8456e-05 - accuracy: 1.0000 - val_loss: 2.9350 - val_accuracy: 0.6310\n",
            "Epoch 93/100\n",
            "19/19 [==============================] - 0s 8ms/step - loss: 3.7672e-05 - accuracy: 1.0000 - val_loss: 2.9472 - val_accuracy: 0.6270\n",
            "Epoch 94/100\n",
            "19/19 [==============================] - 0s 8ms/step - loss: 3.6384e-05 - accuracy: 1.0000 - val_loss: 2.9500 - val_accuracy: 0.6349\n",
            "Epoch 95/100\n",
            "19/19 [==============================] - 0s 8ms/step - loss: 3.5005e-05 - accuracy: 1.0000 - val_loss: 2.9631 - val_accuracy: 0.6270\n",
            "Epoch 96/100\n",
            "19/19 [==============================] - 0s 8ms/step - loss: 3.4389e-05 - accuracy: 1.0000 - val_loss: 2.9699 - val_accuracy: 0.6310\n",
            "Epoch 97/100\n",
            "19/19 [==============================] - 0s 8ms/step - loss: 3.3634e-05 - accuracy: 1.0000 - val_loss: 2.9771 - val_accuracy: 0.6349\n",
            "Epoch 98/100\n",
            "19/19 [==============================] - 0s 8ms/step - loss: 3.2234e-05 - accuracy: 1.0000 - val_loss: 2.9906 - val_accuracy: 0.6310\n",
            "Epoch 99/100\n",
            "19/19 [==============================] - 0s 7ms/step - loss: 3.1151e-05 - accuracy: 1.0000 - val_loss: 3.0031 - val_accuracy: 0.6270\n",
            "Epoch 100/100\n",
            "19/19 [==============================] - 0s 8ms/step - loss: 3.0678e-05 - accuracy: 1.0000 - val_loss: 3.0104 - val_accuracy: 0.6310\n"
          ],
          "name": "stdout"
        },
        {
          "output_type": "execute_result",
          "data": {
            "text/plain": [
              "<tensorflow.python.keras.callbacks.History at 0x7f58272dfd68>"
            ]
          },
          "metadata": {
            "tags": []
          },
          "execution_count": 21
        }
      ]
    },
    {
      "cell_type": "markdown",
      "metadata": {
        "id": "1h69aW4SFj05",
        "colab_type": "text"
      },
      "source": [
        "***test***"
      ]
    },
    {
      "cell_type": "code",
      "metadata": {
        "id": "nwU2XiAJtclm",
        "colab_type": "code",
        "colab": {}
      },
      "source": [
        "img=x[1]\n",
        "img=(np.expand_dims(img,0))"
      ],
      "execution_count": 9,
      "outputs": []
    },
    {
      "cell_type": "code",
      "metadata": {
        "id": "Xqm6zbJBFak8",
        "colab_type": "code",
        "colab": {}
      },
      "source": [
        "model.predict"
      ],
      "execution_count": null,
      "outputs": []
    },
    {
      "cell_type": "code",
      "metadata": {
        "id": "TUBPPNCUv4qn",
        "colab_type": "code",
        "colab": {}
      },
      "source": [
        "model.predict_classes(img)"
      ],
      "execution_count": null,
      "outputs": []
    },
    {
      "cell_type": "code",
      "metadata": {
        "id": "osrS804YFuss",
        "colab_type": "code",
        "colab": {
          "base_uri": "https://localhost:8080/",
          "height": 212
        },
        "outputId": "44661e15-40fe-4c02-fc78-cb0b7067ca3b"
      },
      "source": [
        "for i in range(11):\n",
        "  img=x[i]\n",
        "  img=(np.expand_dims(img,0))   \n",
        "  print(\"true val:\",y[i],\"pred val\",model.predict_classes(img)[0])\n"
      ],
      "execution_count": 23,
      "outputs": [
        {
          "output_type": "stream",
          "text": [
            "true val: 0 pred val [0]\n",
            "true val: 0 pred val [0]\n",
            "true val: 1 pred val [1]\n",
            "true val: 1 pred val [1]\n",
            "true val: 0 pred val [0]\n",
            "true val: 1 pred val [1]\n",
            "true val: 1 pred val [1]\n",
            "true val: 0 pred val [0]\n",
            "true val: 0 pred val [0]\n",
            "true val: 1 pred val [1]\n",
            "true val: 0 pred val [0]\n"
          ],
          "name": "stdout"
        }
      ]
    }
  ]
}