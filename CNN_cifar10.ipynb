{
  "nbformat": 4,
  "nbformat_minor": 0,
  "metadata": {
    "colab": {
      "name": "CNN_cifar10.ipynb",
      "provenance": [],
      "collapsed_sections": [],
      "mount_file_id": "1g2dFx5d5msSwFhCFs9G5f6FaiPYd-c2m",
      "authorship_tag": "ABX9TyNJW5ddVYWZxNc43hNcSyhg",
      "include_colab_link": true
    },
    "kernelspec": {
      "name": "python3",
      "display_name": "Python 3"
    },
    "accelerator": "GPU"
  },
  "cells": [
    {
      "cell_type": "markdown",
      "metadata": {
        "id": "view-in-github",
        "colab_type": "text"
      },
      "source": [
        "<a href=\"https://colab.research.google.com/github/kunal-git-002/CNN/blob/master/CNN_cifar10.ipynb\" target=\"_parent\"><img src=\"https://colab.research.google.com/assets/colab-badge.svg\" alt=\"Open In Colab\"/></a>"
      ]
    },
    {
      "cell_type": "code",
      "metadata": {
        "id": "16R_fc3So-MS",
        "colab_type": "code",
        "colab": {}
      },
      "source": [
        "from keras.datasets import cifar10\n",
        "from keras.utils import np_utils\n",
        "from keras.models import Sequential\n",
        "\n",
        "from keras.layers.core import Dense,Dropout,Activation,Flatten\n",
        "from keras.layers.convolutional import Conv2D,MaxPooling2D\n",
        "\n",
        "from keras.optimizers import SGD,Adam,RMSprop\n",
        "\n",
        "import matplotlib.pyplot as plt\n",
        "\n",
        "import numpy as np\n"
      ],
      "execution_count": 7,
      "outputs": []
    },
    {
      "cell_type": "code",
      "metadata": {
        "id": "8a-XVCgaqOSP",
        "colab_type": "code",
        "colab": {}
      },
      "source": [
        "img_ch=3\n",
        "img_r=32\n",
        "img_c=32"
      ],
      "execution_count": 8,
      "outputs": []
    },
    {
      "cell_type": "code",
      "metadata": {
        "id": "SniUy9SsqUQy",
        "colab_type": "code",
        "colab": {}
      },
      "source": [
        "batch_size=128\n",
        "epochs=20\n",
        "classes=10\n",
        "verbose=1\n",
        "validation_split=0.2\n",
        "optim=RMSprop()"
      ],
      "execution_count": 9,
      "outputs": []
    },
    {
      "cell_type": "code",
      "metadata": {
        "id": "3Ng-wRlEqrQL",
        "colab_type": "code",
        "colab": {
          "base_uri": "https://localhost:8080/",
          "height": 34
        },
        "outputId": "8433150a-7c80-472f-8a1d-aa64d9450478"
      },
      "source": [
        "(x_tr,y_tr),(x_te,y_te)=cifar10.load_data()\n",
        "x_tr.shape\n"
      ],
      "execution_count": 10,
      "outputs": [
        {
          "output_type": "execute_result",
          "data": {
            "text/plain": [
              "(50000, 32, 32, 3)"
            ]
          },
          "metadata": {
            "tags": []
          },
          "execution_count": 10
        }
      ]
    },
    {
      "cell_type": "markdown",
      "metadata": {
        "id": "assDPFlA6GWx",
        "colab_type": "text"
      },
      "source": [
        ""
      ]
    },
    {
      "cell_type": "code",
      "metadata": {
        "id": "r6d1ZVygzBD_",
        "colab_type": "code",
        "colab": {}
      },
      "source": [
        "class_name={\n",
        "0: \"airplane\",\n",
        "1: \"automobile\",\n",
        "2: \"bird\",\n",
        "3: \"cat\",\n",
        "4: \"deer\",\n",
        "5: \"dog\",\n",
        "6: \"frog\",\n",
        "7: \"horse\",\n",
        "8: \"ship\",\n",
        "9: \"truck\"\n",
        "}\n",
        "\n",
        "#function 1:\n",
        "#which return a name of object\n",
        "def obj(index):\n",
        "  obj_ind=np.argmax(index)\n",
        "  obj_name=class_name[obj_ind]\n",
        "  return obj_name\n",
        "\n",
        "print(obj(y_tr[111]))\n",
        "#function 2:\n",
        "#plot the object with name\n",
        "def plot(X,Y,i):\n",
        "  object=obj(Y[i])\n",
        "  fig=plt.figure(figsize=(3,3))\n",
        "  fig.suptitle(object)\n",
        "  plt.imshow(X[i])\n",
        "  return plt.show()\n",
        "\n",
        "plot(x_tr,y_tr,111)"
      ],
      "execution_count": null,
      "outputs": []
    },
    {
      "cell_type": "code",
      "metadata": {
        "id": "MyxjAkgSq_iv",
        "colab_type": "code",
        "colab": {}
      },
      "source": [
        "#covert to categorical\n",
        "y_tr=np_utils.to_categorical(y_tr,classes)\n",
        "y_te=np_utils.to_categorical(y_te,classes)"
      ],
      "execution_count": 12,
      "outputs": []
    },
    {
      "cell_type": "code",
      "metadata": {
        "id": "xSpZtdMxrbS7",
        "colab_type": "code",
        "colab": {}
      },
      "source": [
        "#covert pixel value 0-255 to 0-1\n",
        "x_tr=x_tr.astype(\"float32\")\n",
        "x_te=x_te.astype(\"float32\")\n",
        "\n",
        "x_tr=x_tr/255\n",
        "x_te=x_te/255"
      ],
      "execution_count": 13,
      "outputs": []
    },
    {
      "cell_type": "code",
      "metadata": {
        "id": "mOZTJXWEr6DL",
        "colab_type": "code",
        "colab": {}
      },
      "source": [
        "#model building\n",
        "model=Sequential()\n",
        "model.add(Conv2D(32,(3,3),padding=\"same\",input_shape=(img_r,img_c,img_ch)))\n",
        "model.add(Activation(\"relu\"))\n",
        "model.add(MaxPooling2D(pool_size=(2,2)))\n",
        "model.add(Dropout(0.25))\n",
        "\n",
        "model.add(Flatten())\n",
        "model.add(Dense(512))\n",
        "model.add(Activation(\"relu\"))\n",
        "model.add(Dropout(0.5))\n",
        "model.add(Dense(classes))\n",
        "\n",
        "model.add(Activation(\"softmax\"))\n"
      ],
      "execution_count": 14,
      "outputs": []
    },
    {
      "cell_type": "code",
      "metadata": {
        "id": "xe09otQIs99W",
        "colab_type": "code",
        "colab": {}
      },
      "source": [
        "model.summary()"
      ],
      "execution_count": null,
      "outputs": []
    },
    {
      "cell_type": "markdown",
      "metadata": {
        "id": "56tEpQR_txUP",
        "colab_type": "text"
      },
      "source": [
        "***train***"
      ]
    },
    {
      "cell_type": "code",
      "metadata": {
        "id": "T_VueBVttqxd",
        "colab_type": "code",
        "colab": {}
      },
      "source": [
        "model.compile(loss=\"categorical_crossentropy\",optimizer=optim,metrics=[\"accuracy\"])\n"
      ],
      "execution_count": 16,
      "outputs": []
    },
    {
      "cell_type": "code",
      "metadata": {
        "id": "fHUm8VGduENE",
        "colab_type": "code",
        "colab": {
          "base_uri": "https://localhost:8080/",
          "height": 714
        },
        "outputId": "4a61ae90-a77b-4a9f-90e0-6a654a155c66"
      },
      "source": [
        "model.fit(x_tr,y_tr,\n",
        "          batch_size=batch_size,\n",
        "          epochs=epochs,\n",
        "          validation_split=validation_split,\n",
        "          verbose=2\n",
        "          )"
      ],
      "execution_count": 47,
      "outputs": [
        {
          "output_type": "stream",
          "text": [
            "Epoch 1/20\n",
            "313/313 - 4s - loss: 0.6484 - accuracy: 0.7767 - val_loss: 1.0930 - val_accuracy: 0.6531\n",
            "Epoch 2/20\n",
            "313/313 - 4s - loss: 0.6268 - accuracy: 0.7838 - val_loss: 1.1622 - val_accuracy: 0.6635\n",
            "Epoch 3/20\n",
            "313/313 - 4s - loss: 0.6134 - accuracy: 0.7885 - val_loss: 1.0307 - val_accuracy: 0.6795\n",
            "Epoch 4/20\n",
            "313/313 - 4s - loss: 0.6024 - accuracy: 0.7922 - val_loss: 1.0306 - val_accuracy: 0.6809\n",
            "Epoch 5/20\n",
            "313/313 - 4s - loss: 0.5908 - accuracy: 0.7959 - val_loss: 1.0565 - val_accuracy: 0.6607\n",
            "Epoch 6/20\n",
            "313/313 - 4s - loss: 0.5744 - accuracy: 0.8014 - val_loss: 1.1053 - val_accuracy: 0.6612\n",
            "Epoch 7/20\n",
            "313/313 - 4s - loss: 0.5678 - accuracy: 0.8040 - val_loss: 1.0179 - val_accuracy: 0.6755\n",
            "Epoch 8/20\n",
            "313/313 - 4s - loss: 0.5555 - accuracy: 0.8089 - val_loss: 1.1780 - val_accuracy: 0.6735\n",
            "Epoch 9/20\n",
            "313/313 - 4s - loss: 0.5489 - accuracy: 0.8140 - val_loss: 1.1255 - val_accuracy: 0.6810\n",
            "Epoch 10/20\n",
            "313/313 - 4s - loss: 0.5377 - accuracy: 0.8171 - val_loss: 1.1209 - val_accuracy: 0.6846\n",
            "Epoch 11/20\n",
            "313/313 - 4s - loss: 0.5356 - accuracy: 0.8169 - val_loss: 1.1117 - val_accuracy: 0.6768\n",
            "Epoch 12/20\n",
            "313/313 - 4s - loss: 0.5234 - accuracy: 0.8213 - val_loss: 1.1020 - val_accuracy: 0.6703\n",
            "Epoch 13/20\n",
            "313/313 - 4s - loss: 0.5218 - accuracy: 0.8235 - val_loss: 1.1170 - val_accuracy: 0.6823\n",
            "Epoch 14/20\n",
            "313/313 - 4s - loss: 0.5176 - accuracy: 0.8257 - val_loss: 1.0861 - val_accuracy: 0.6659\n",
            "Epoch 15/20\n",
            "313/313 - 4s - loss: 0.5027 - accuracy: 0.8281 - val_loss: 1.1086 - val_accuracy: 0.6837\n",
            "Epoch 16/20\n",
            "313/313 - 4s - loss: 0.4923 - accuracy: 0.8323 - val_loss: 1.2540 - val_accuracy: 0.6411\n",
            "Epoch 17/20\n",
            "313/313 - 4s - loss: 0.4930 - accuracy: 0.8339 - val_loss: 1.2566 - val_accuracy: 0.6593\n",
            "Epoch 18/20\n",
            "313/313 - 4s - loss: 0.4966 - accuracy: 0.8326 - val_loss: 1.2244 - val_accuracy: 0.6731\n",
            "Epoch 19/20\n",
            "313/313 - 4s - loss: 0.4919 - accuracy: 0.8339 - val_loss: 1.2576 - val_accuracy: 0.6748\n",
            "Epoch 20/20\n",
            "313/313 - 4s - loss: 0.4817 - accuracy: 0.8382 - val_loss: 1.1407 - val_accuracy: 0.6722\n"
          ],
          "name": "stdout"
        },
        {
          "output_type": "execute_result",
          "data": {
            "text/plain": [
              "<tensorflow.python.keras.callbacks.History at 0x7f8719e709e8>"
            ]
          },
          "metadata": {
            "tags": []
          },
          "execution_count": 47
        }
      ]
    },
    {
      "cell_type": "markdown",
      "metadata": {
        "id": "OrVk_FBsuxKl",
        "colab_type": "text"
      },
      "source": [
        "***evaluation checking the result***"
      ]
    },
    {
      "cell_type": "code",
      "metadata": {
        "id": "dhFTQiNourRX",
        "colab_type": "code",
        "colab": {
          "base_uri": "https://localhost:8080/",
          "height": 68
        },
        "outputId": "ae9114d7-00a9-478d-b42a-3b270b50acc3"
      },
      "source": [
        "result=model.evaluate(x_te,y_te,\n",
        "                     batch_size=batch_size,\n",
        "                     verbose=verbose)\n",
        "\n",
        "score=result[0]\n",
        "accuracy=result[1]\n",
        "\n",
        "print(\"score: \", score)\n",
        "print(\"accuracy: \",accuracy)"
      ],
      "execution_count": 48,
      "outputs": [
        {
          "output_type": "stream",
          "text": [
            "79/79 [==============================] - 0s 5ms/step - loss: 1.1479 - accuracy: 0.6644\n",
            "score:  1.1478506326675415\n",
            "accuracy:  0.6643999814987183\n"
          ],
          "name": "stdout"
        }
      ]
    },
    {
      "cell_type": "markdown",
      "metadata": {
        "id": "Pnp7Vyb-vecc",
        "colab_type": "text"
      },
      "source": [
        "***prediction***"
      ]
    },
    {
      "cell_type": "markdown",
      "metadata": {
        "id": "RyCf5r5i6zwm",
        "colab_type": "text"
      },
      "source": [
        "***extra work***"
      ]
    },
    {
      "cell_type": "code",
      "metadata": {
        "id": "zU7vKV54yEiz",
        "colab_type": "code",
        "colab": {}
      },
      "source": [
        "import pandas as pd\n",
        "\n",
        "df=pd.DataFrame(data=y_te)\n",
        "df\n"
      ],
      "execution_count": null,
      "outputs": []
    },
    {
      "cell_type": "markdown",
      "metadata": {
        "id": "8xMF3pi6nnbo",
        "colab_type": "text"
      },
      "source": [
        "***prediction***"
      ]
    },
    {
      "cell_type": "code",
      "metadata": {
        "id": "EMAWIeQWvdX7",
        "colab_type": "code",
        "colab": {
          "base_uri": "https://localhost:8080/",
          "height": 267
        },
        "outputId": "7d1d56b9-bfdc-4918-bc3e-3d1f58aef870"
      },
      "source": [
        "j=119\n",
        "\n",
        "\n",
        "pred_class=model.predict_classes(x_te[j].reshape(1,32,32,3))[0]\n",
        "\n",
        "arr=df.iloc[j].to_numpy()\n",
        "\n",
        "true_value=np.argmax(arr)\n",
        "\n",
        "print(\"true value: \",class_name[true_value])\n",
        "print(\"pred value: \",class_name[pred_class])\n",
        "\n",
        "plot(x_te,y_te,j)"
      ],
      "execution_count": 50,
      "outputs": [
        {
          "output_type": "stream",
          "text": [
            "true value:  horse\n",
            "pred value:  dog\n"
          ],
          "name": "stdout"
        },
        {
          "output_type": "display_data",
          "data": {
            "image/png": "[encoded data removed]",
            "text/plain": [
              "<Figure size 216x216 with 1 Axes>"
            ]
          },
          "metadata": {
            "tags": [],
            "needs_background": "light"
          }
        }
      ]
    }
  ]
}